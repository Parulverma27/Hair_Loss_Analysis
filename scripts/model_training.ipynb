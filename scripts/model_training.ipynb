{
 "cells": [
  {
   "cell_type": "code",
   "execution_count": 1,
   "id": "501b19f1",
   "metadata": {},
   "outputs": [],
   "source": [
    "# 📦 Imports\n",
    "import pandas as pd\n",
    "from sklearn.model_selection import train_test_split\n",
    "from sklearn.linear_model import Ridge\n",
    "from sklearn.ensemble import RandomForestClassifier\n",
    "from sklearn.naive_bayes import GaussianNB, MultinomialNB\n",
    "from sklearn.metrics import accuracy_score"
   ]
  },
  {
   "cell_type": "code",
   "execution_count": 2,
   "id": "a36384f9",
   "metadata": {},
   "outputs": [],
   "source": [
    "# 📂 Load processed data\n",
    "df = pd.read_csv('../data/processed_hair_loss.csv')"
   ]
  },
  {
   "cell_type": "code",
   "execution_count": 3,
   "id": "e4582a4f",
   "metadata": {},
   "outputs": [],
   "source": [
    "# 🎯 Features and target\n",
    "X = df.drop('Hair Loss', axis=1)\n",
    "y = df['Hair Loss']"
   ]
  },
  {
   "cell_type": "code",
   "execution_count": 4,
   "id": "beb543a9",
   "metadata": {},
   "outputs": [],
   "source": [
    "# 🔀 Train-test split\n",
    "X_train, X_test, y_train, y_test = train_test_split(X, y, test_size=0.2, random_state=42)"
   ]
  },
  {
   "cell_type": "markdown",
   "id": "8aa4362c",
   "metadata": {},
   "source": [
    "Ridge Regression"
   ]
  },
  {
   "cell_type": "code",
   "execution_count": 6,
   "id": "da20737d",
   "metadata": {},
   "outputs": [
    {
     "name": "stdout",
     "output_type": "stream",
     "text": [
      "Ridge Regression Accuracy: 0.53\n"
     ]
    }
   ],
   "source": [
    "# 📘 Ridge Regression\n",
    "\n",
    "# One-hot encode categorical columns for Ridge Regression\n",
    "X_train_ridge = pd.get_dummies(X_train)\n",
    "X_test_ridge = pd.get_dummies(X_test)\n",
    "\n",
    "# Align columns in case some categories are missing in test/train\n",
    "X_train_ridge, X_test_ridge = X_train_ridge.align(X_test_ridge, join='left', axis=1, fill_value=0)\n",
    "\n",
    "ridge_model = Ridge()\n",
    "ridge_model.fit(X_train_ridge, y_train)\n",
    "y_pred_ridge = ridge_model.predict(X_test_ridge).round().astype(int)\n",
    "acc_ridge = accuracy_score(y_test, y_pred_ridge)\n",
    "print(\"Ridge Regression Accuracy:\", acc_ridge)"
   ]
  },
  {
   "cell_type": "markdown",
   "id": "2d108c5c",
   "metadata": {},
   "source": [
    "Random Forest Classifier"
   ]
  },
  {
   "cell_type": "code",
   "execution_count": 8,
   "id": "810b6251",
   "metadata": {},
   "outputs": [
    {
     "name": "stdout",
     "output_type": "stream",
     "text": [
      "Random Forest Accuracy: 0.475\n"
     ]
    }
   ],
   "source": [
    "# 🌲 Random Forest\n",
    "rf_model = RandomForestClassifier()\n",
    "rf_model.fit(X_train_ridge, y_train)\n",
    "y_pred_rf = rf_model.predict(X_test_ridge)\n",
    "acc_rf = accuracy_score(y_test, y_pred_rf)\n",
    "print(\"Random Forest Accuracy:\", acc_rf)"
   ]
  },
  {
   "cell_type": "markdown",
   "id": "2d5e3f4b",
   "metadata": {},
   "source": [
    "Gaussian Naive Bayes"
   ]
  },
  {
   "cell_type": "code",
   "execution_count": 10,
   "id": "64c82691",
   "metadata": {},
   "outputs": [
    {
     "name": "stdout",
     "output_type": "stream",
     "text": [
      "Gaussian NB Accuracy: 0.53\n"
     ]
    }
   ],
   "source": [
    "# 🧪 Gaussian NB\n",
    "gnb = GaussianNB()\n",
    "gnb.fit(X_train_ridge, y_train)\n",
    "y_pred_gnb = gnb.predict(X_test_ridge)\n",
    "acc_gnb = accuracy_score(y_test, y_pred_gnb)\n",
    "print(\"Gaussian NB Accuracy:\", acc_gnb)"
   ]
  },
  {
   "cell_type": "markdown",
   "id": "aa9b2b60",
   "metadata": {},
   "source": [
    "Multimonial Naive Bayes"
   ]
  },
  {
   "cell_type": "code",
   "execution_count": 12,
   "id": "7774fff7",
   "metadata": {},
   "outputs": [],
   "source": [
    "# 🧪 Multinomial NB (ensure non-negative features)\n",
    "X_train_nb = X_train.copy()\n",
    "X_test_nb = X_test.copy()\n",
    "\n",
    "# Only set negatives to zero for numeric columns\n",
    "num_cols = X_train_nb.select_dtypes(include=['number']).columns\n",
    "X_train_nb[num_cols] = X_train_nb[num_cols].clip(lower=0)\n",
    "X_test_nb[num_cols] = X_test_nb[num_cols].clip(lower=0)"
   ]
  },
  {
   "cell_type": "code",
   "execution_count": 14,
   "id": "d0ca0e97",
   "metadata": {},
   "outputs": [
    {
     "name": "stdout",
     "output_type": "stream",
     "text": [
      "Multinomial NB Accuracy: 0.535\n"
     ]
    }
   ],
   "source": [
    "# One-hot encode categorical columns for MultinomialNB\n",
    "X_train_nb_enc = pd.get_dummies(X_train_nb)\n",
    "X_test_nb_enc = pd.get_dummies(X_test_nb)\n",
    "\n",
    "# Align columns in case some categories are missing in test/train\n",
    "X_train_nb_enc, X_test_nb_enc = X_train_nb_enc.align(X_test_nb_enc, join='left', axis=1, fill_value=0)\n",
    "\n",
    "mnb = MultinomialNB()\n",
    "mnb.fit(X_train_nb_enc, y_train)\n",
    "y_pred_mnb = mnb.predict(X_test_nb_enc)\n",
    "acc_mnb = accuracy_score(y_test, y_pred_mnb)\n",
    "print(\"Multinomial NB Accuracy:\", acc_mnb)"
   ]
  },
  {
   "cell_type": "code",
   "execution_count": 16,
   "id": "344f0cb1",
   "metadata": {},
   "outputs": [
    {
     "data": {
      "text/html": [
       "<div>\n",
       "<style scoped>\n",
       "    .dataframe tbody tr th:only-of-type {\n",
       "        vertical-align: middle;\n",
       "    }\n",
       "\n",
       "    .dataframe tbody tr th {\n",
       "        vertical-align: top;\n",
       "    }\n",
       "\n",
       "    .dataframe thead th {\n",
       "        text-align: right;\n",
       "    }\n",
       "</style>\n",
       "<table border=\"1\" class=\"dataframe\">\n",
       "  <thead>\n",
       "    <tr style=\"text-align: right;\">\n",
       "      <th></th>\n",
       "      <th>Model</th>\n",
       "      <th>Accuracy</th>\n",
       "    </tr>\n",
       "  </thead>\n",
       "  <tbody>\n",
       "    <tr>\n",
       "      <th>3</th>\n",
       "      <td>Multinomial NB</td>\n",
       "      <td>0.535</td>\n",
       "    </tr>\n",
       "    <tr>\n",
       "      <th>0</th>\n",
       "      <td>Ridge Regression</td>\n",
       "      <td>0.530</td>\n",
       "    </tr>\n",
       "    <tr>\n",
       "      <th>2</th>\n",
       "      <td>Gaussian NB</td>\n",
       "      <td>0.530</td>\n",
       "    </tr>\n",
       "    <tr>\n",
       "      <th>1</th>\n",
       "      <td>Random Forest</td>\n",
       "      <td>0.475</td>\n",
       "    </tr>\n",
       "  </tbody>\n",
       "</table>\n",
       "</div>"
      ],
      "text/plain": [
       "              Model  Accuracy\n",
       "3    Multinomial NB     0.535\n",
       "0  Ridge Regression     0.530\n",
       "2       Gaussian NB     0.530\n",
       "1     Random Forest     0.475"
      ]
     },
     "execution_count": 16,
     "metadata": {},
     "output_type": "execute_result"
    }
   ],
   "source": [
    "results = {\n",
    "    \"Ridge Regression\": acc_ridge,\n",
    "    \"Random Forest\": acc_rf,\n",
    "    \"Gaussian NB\": acc_gnb,\n",
    "    \"Multinomial NB\": acc_mnb,\n",
    "}\n",
    "\n",
    "results_df = pd.DataFrame(results.items(), columns=['Model', 'Accuracy'])\n",
    "results_df.sort_values(by=\"Accuracy\", ascending=False)"
   ]
  }
 ],
 "metadata": {
  "kernelspec": {
   "display_name": "Python 3",
   "language": "python",
   "name": "python3"
  },
  "language_info": {
   "codemirror_mode": {
    "name": "ipython",
    "version": 3
   },
   "file_extension": ".py",
   "mimetype": "text/x-python",
   "name": "python",
   "nbconvert_exporter": "python",
   "pygments_lexer": "ipython3",
   "version": "3.12.0"
  }
 },
 "nbformat": 4,
 "nbformat_minor": 5
}
