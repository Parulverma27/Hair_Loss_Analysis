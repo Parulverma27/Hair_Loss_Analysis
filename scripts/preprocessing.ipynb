{
 "cells": [
  {
   "cell_type": "code",
   "execution_count": 1,
   "id": "69322f01",
   "metadata": {},
   "outputs": [],
   "source": [
    "# 📦 Imports\n",
    "import pandas as pd\n",
    "import numpy as np\n",
    "from sklearn.preprocessing import StandardScaler"
   ]
  },
  {
   "cell_type": "code",
   "execution_count": 2,
   "id": "2753eac0",
   "metadata": {},
   "outputs": [],
   "source": [
    "# 📂 Load Data\n",
    "df = pd.read_csv('../data/Predict_Hair_Fall.csv')"
   ]
  },
  {
   "cell_type": "code",
   "execution_count": 4,
   "id": "211d83b1",
   "metadata": {},
   "outputs": [],
   "source": [
    "# 🧹 Data Cleaning\n",
    "df.drop_duplicates(inplace=True)\n",
    "df['Age'] = df['Age'].fillna(df['Age'].median())\n",
    "\n",
    "# Ensure column names have no leading/trailing spaces\n",
    "df.columns = df.columns.str.strip()\n",
    "\n",
    "cat_cols = ['Genetics', 'Hormonal Changes', 'Medical Conditions', 'Medications & Treatments',\n",
    "            'Nutritional Deficiencies', 'Stress', 'Poor Hair Care Habits', \n",
    "            'Environmental Factors', 'Smoking', 'Weight Loss']\n",
    "\n",
    "for col in cat_cols:\n",
    "    df[col] = df[col].fillna(df[col].mode()[0])"
   ]
  },
  {
   "cell_type": "code",
   "execution_count": 5,
   "id": "7a132fa8",
   "metadata": {},
   "outputs": [],
   "source": [
    "# 🗑️ Drop ID column\n",
    "if 'Id' in df.columns:\n",
    "    df.drop(columns=['Id'], inplace=True)"
   ]
  },
  {
   "cell_type": "code",
   "execution_count": 6,
   "id": "ee4a098c",
   "metadata": {},
   "outputs": [],
   "source": [
    "# 🧠 Feature Engineering\n",
    "df['Age_Group'] = pd.cut(df['Age'], bins=[0, 20, 35, 50, 100], \n",
    "                         labels=['Teen', 'Young Adult', 'Middle Aged', 'Senior'])"
   ]
  },
  {
   "cell_type": "code",
   "execution_count": 7,
   "id": "ac5d62f8",
   "metadata": {},
   "outputs": [],
   "source": [
    "# ➕ Interaction Feature\n",
    "df['Stress_Medical'] = df['Stress'].astype(str) + \"_\" + df['Medical Conditions'].astype(str)"
   ]
  },
  {
   "cell_type": "code",
   "execution_count": 8,
   "id": "e109ba00",
   "metadata": {},
   "outputs": [],
   "source": [
    "# 🔄 Encoding\n",
    "cat_features = df.select_dtypes(include='object').columns\n",
    "df_encoded = pd.get_dummies(df, columns=cat_features, drop_first=True)"
   ]
  },
  {
   "cell_type": "code",
   "execution_count": 9,
   "id": "47b3f90e",
   "metadata": {},
   "outputs": [],
   "source": [
    "# 🔢 Feature Scaling\n",
    "scaler = StandardScaler()\n",
    "df_encoded['Age'] = scaler.fit_transform(df_encoded[['Age']])"
   ]
  },
  {
   "cell_type": "code",
   "execution_count": 10,
   "id": "abedbf53",
   "metadata": {},
   "outputs": [
    {
     "name": "stdout",
     "output_type": "stream",
     "text": [
      "Preprocessing completed and saved to data/processed_hair_loss.csv\n"
     ]
    }
   ],
   "source": [
    "# ✅ Save processed data\n",
    "df_encoded.to_csv('../data/processed_hair_loss.csv', index=False)\n",
    "print(\"Preprocessing completed and saved to data/processed_hair_loss.csv\")"
   ]
  }
 ],
 "metadata": {
  "kernelspec": {
   "display_name": "Python 3",
   "language": "python",
   "name": "python3"
  },
  "language_info": {
   "codemirror_mode": {
    "name": "ipython",
    "version": 3
   },
   "file_extension": ".py",
   "mimetype": "text/x-python",
   "name": "python",
   "nbconvert_exporter": "python",
   "pygments_lexer": "ipython3",
   "version": "3.12.0"
  }
 },
 "nbformat": 4,
 "nbformat_minor": 5
}
